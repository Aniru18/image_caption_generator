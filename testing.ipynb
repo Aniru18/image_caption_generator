{
 "cells": [
  {
   "cell_type": "code",
   "execution_count": 1,
   "id": "a9375470",
   "metadata": {},
   "outputs": [],
   "source": [
    "import os"
   ]
  },
  {
   "cell_type": "code",
   "execution_count": 3,
   "id": "99fb06ef",
   "metadata": {},
   "outputs": [
    {
     "name": "stdout",
     "output_type": "stream",
     "text": [
      "<class 'str'>\n"
     ]
    }
   ],
   "source": [
    "img = \"isdbfbidwf.jpg\"\n",
    "ext = os.path.splitext(img)[1].lower()\n",
    "print(type(ext))  # Output: .jpg"
   ]
  },
  {
   "cell_type": "code",
   "execution_count": null,
   "id": "b7886997",
   "metadata": {},
   "outputs": [],
   "source": []
  }
 ],
 "metadata": {
  "kernelspec": {
   "display_name": "Python 3",
   "language": "python",
   "name": "python3"
  },
  "language_info": {
   "codemirror_mode": {
    "name": "ipython",
    "version": 3
   },
   "file_extension": ".py",
   "mimetype": "text/x-python",
   "name": "python",
   "nbconvert_exporter": "python",
   "pygments_lexer": "ipython3",
   "version": "3.12.3"
  }
 },
 "nbformat": 4,
 "nbformat_minor": 5
}
